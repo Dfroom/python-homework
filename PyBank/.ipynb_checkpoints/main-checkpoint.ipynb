{
 "cells": [
  {
   "cell_type": "code",
   "execution_count": 84,
   "id": "eb78d422-389b-4719-b1df-595f06c43c40",
   "metadata": {},
   "outputs": [],
   "source": [
    "from pathlib import Path"
   ]
  },
  {
   "cell_type": "code",
   "execution_count": 85,
   "id": "d43bc96c-4877-4e5c-93ed-8bd4adda845c",
   "metadata": {
    "tags": []
   },
   "outputs": [],
   "source": [
    "filepath = Path(\"/Users/danielfroom/Desktop/python-homework/PyBank/budget_data.csv\")"
   ]
  },
  {
   "cell_type": "code",
   "execution_count": 134,
   "id": "b47faf98-03dd-4ec4-b669-69e7385572a0",
   "metadata": {
    "tags": []
   },
   "outputs": [],
   "source": [
    "records = []"
   ]
  },
  {
   "cell_type": "code",
   "execution_count": 135,
   "id": "94d7bd86-7476-4f82-851b-de96bd37beb5",
   "metadata": {
    "tags": []
   },
   "outputs": [],
   "source": [
    "line_num = 0"
   ]
  },
  {
   "cell_type": "code",
   "execution_count": 136,
   "id": "cf4ca055-3a07-4f43-9d72-37515db28940",
   "metadata": {
    "tags": []
   },
   "outputs": [],
   "source": [
    "total_months = 0\n",
    "total = 0\n",
    "average_change = 0\n",
    "greatest_increase = 0\n",
    "greatest_decrease = 0\n",
    "change = 0\n",
    "old_value = 0\n",
    "new_value = 0\n",
    "change_total = 0"
   ]
  },
  {
   "cell_type": "code",
   "execution_count": 89,
   "id": "7d6125aa-868d-4831-89d9-69fcf03100fd",
   "metadata": {
    "tags": []
   },
   "outputs": [],
   "source": [
    "import csv"
   ]
  },
  {
   "cell_type": "code",
   "execution_count": 137,
   "id": "da2edab3-d28c-44ee-9aa7-677b82632c3d",
   "metadata": {
    "tags": []
   },
   "outputs": [
    {
     "name": "stdout",
     "output_type": "stream",
     "text": [
      "['Date', 'Profit_Losses']\n"
     ]
    }
   ],
   "source": [
    "with open(filepath, 'r') as csvfile:\n",
    "    csvreader = csv.reader(csvfile, delimiter= \",\")\n",
    "    csv_header = next(csvreader)\n",
    "    print(csv_header)"
   ]
  },
  {
   "cell_type": "code",
   "execution_count": 138,
   "id": "869e6469-23e6-492d-92b3-c76798ea8bd5",
   "metadata": {
    "tags": []
   },
   "outputs": [],
   "source": [
    "csv_header.append(\"Calc\")"
   ]
  },
  {
   "cell_type": "code",
   "execution_count": 139,
   "id": "4de8cdba-1d6f-4a39-bb4f-54c916527d85",
   "metadata": {
    "tags": []
   },
   "outputs": [
    {
     "name": "stdout",
     "output_type": "stream",
     "text": [
      "['Date', 'Profit_Losses', 'Calc']\n"
     ]
    }
   ],
   "source": [
    "print(csv_header)"
   ]
  },
  {
   "cell_type": "code",
   "execution_count": 140,
   "id": "b223ec47-a6c1-4989-9ffd-67f30d53c9a1",
   "metadata": {
    "tags": []
   },
   "outputs": [],
   "source": [
    "records.append(csv_header)"
   ]
  },
  {
   "cell_type": "code",
   "execution_count": 141,
   "id": "b21fae3c-d1b8-48e0-a748-639885d9e4f7",
   "metadata": {
    "tags": []
   },
   "outputs": [],
   "source": [
    "csv_header.append(\"Change\")"
   ]
  },
  {
   "cell_type": "code",
   "execution_count": 142,
   "id": "39bfb083-ac0b-4100-bf2c-d0b8e6ab5d96",
   "metadata": {
    "tags": []
   },
   "outputs": [
    {
     "name": "stdout",
     "output_type": "stream",
     "text": [
      "['Date', 'Profit_Losses', 'Calc', 'Change']\n"
     ]
    }
   ],
   "source": [
    "print(csv_header)"
   ]
  },
  {
   "cell_type": "code",
   "execution_count": 143,
   "id": "34c52495-c1b4-4999-b72d-831673e2af9f",
   "metadata": {
    "tags": []
   },
   "outputs": [],
   "source": [
    "records.append(csv_header)"
   ]
  },
  {
   "cell_type": "code",
   "execution_count": 144,
   "id": "e999d290-ad4b-4270-8027-58d27e42ecb6",
   "metadata": {
    "tags": []
   },
   "outputs": [
    {
     "name": "stdout",
     "output_type": "stream",
     "text": [
      "['Jan-2010', '867884', 0]\n",
      "['Feb-2010', '984655', 116771]\n",
      "['Mar-2010', '322013', -662642]\n",
      "['Apr-2010', '-69417', -391430]\n",
      "['May-2010', '310503', 379920]\n",
      "['Jun-2010', '522857', 212354]\n",
      "['Jul-2010', '1033096', 510239]\n",
      "['Aug-2010', '604885', -428211]\n",
      "['Sep-2010', '-216386', -821271]\n",
      "['Oct-2010', '477532', 693918]\n",
      "['Nov-2010', '893810', 416278]\n",
      "['Dec-2010', '-80353', -974163]\n",
      "['Jan-2011', '779806', 860159]\n",
      "['Feb-2011', '-335203', -1115009]\n",
      "['Mar-2011', '697845', 1033048]\n",
      "['Apr-2011', '793163', 95318]\n",
      "['May-2011', '485070', -308093]\n",
      "['Jun-2011', '584122', 99052]\n",
      "['Jul-2011', '62729', -521393]\n",
      "['Aug-2011', '668179', 605450]\n",
      "['Sep-2011', '899906', 231727]\n",
      "['Oct-2011', '834719', -65187]\n",
      "['Nov-2011', '132003', -702716]\n",
      "['Dec-2011', '309978', 177975]\n",
      "['Jan-2012', '-755566', -1065544]\n",
      "['Feb-2012', '1170593', 1926159]\n",
      "['Mar-2012', '252788', -917805]\n",
      "['Apr-2012', '1151518', 898730]\n",
      "['May-2012', '817256', -334262]\n",
      "['Jun-2012', '570757', -246499]\n",
      "['Jul-2012', '506702', -64055]\n",
      "['Aug-2012', '-1022534', -1529236]\n",
      "['Sep-2012', '475062', 1497596]\n",
      "['Oct-2012', '779976', 304914]\n",
      "['Nov-2012', '144175', -635801]\n",
      "['Dec-2012', '542494', 398319]\n",
      "['Jan-2013', '359333', -183161]\n",
      "['Feb-2013', '321469', -37864]\n",
      "['Mar-2013', '67780', -253689]\n",
      "['Apr-2013', '471435', 403655]\n",
      "['May-2013', '565603', 94168]\n",
      "['Jun-2013', '872480', 306877]\n",
      "['Jul-2013', '789480', -83000]\n",
      "['Aug-2013', '999942', 210462]\n",
      "['Sep-2013', '-1196225', -2196167]\n",
      "['Oct-2013', '268997', 1465222]\n",
      "['Nov-2013', '-687986', -956983]\n",
      "['Dec-2013', '1150461', 1838447]\n",
      "['Jan-2014', '682458', -468003]\n",
      "['Feb-2014', '617856', -64602]\n",
      "['Mar-2014', '824098', 206242]\n",
      "['Apr-2014', '581943', -242155]\n",
      "['May-2014', '132864', -449079]\n",
      "['Jun-2014', '448062', 315198]\n",
      "['Jul-2014', '689161', 241099]\n",
      "['Aug-2014', '800701', 111540]\n",
      "['Sep-2014', '1166643', 365942]\n",
      "['Oct-2014', '947333', -219310]\n",
      "['Nov-2014', '578668', -368665]\n",
      "['Dec-2014', '988505', 409837]\n",
      "['Jan-2015', '1139715', 151210]\n",
      "['Feb-2015', '1029471', -110244]\n",
      "['Mar-2015', '687533', -341938]\n",
      "['Apr-2015', '-524626', -1212159]\n",
      "['May-2015', '158620', 683246]\n",
      "['Jun-2015', '87795', -70825]\n",
      "['Jul-2015', '423389', 335594]\n",
      "['Aug-2015', '840723', 417334]\n",
      "['Sep-2015', '568529', -272194]\n",
      "['Oct-2015', '332067', -236462]\n",
      "['Nov-2015', '989499', 657432]\n",
      "['Dec-2015', '778237', -211262]\n",
      "['Jan-2016', '650000', -128237]\n",
      "['Feb-2016', '-1100387', -1750387]\n",
      "['Mar-2016', '-174946', 925441]\n",
      "['Apr-2016', '757143', 932089]\n",
      "['May-2016', '445709', -311434]\n",
      "['Jun-2016', '712961', 267252]\n",
      "['Jul-2016', '-1163797', -1876758]\n",
      "['Aug-2016', '569899', 1733696]\n",
      "['Sep-2016', '768450', 198551]\n",
      "['Oct-2016', '102685', -665765]\n",
      "['Nov-2016', '795914', 693229]\n",
      "['Dec-2016', '60988', -734926]\n",
      "['Jan-2017', '138230', 77242]\n",
      "['Feb-2017', '671099', 532869]\n"
     ]
    }
   ],
   "source": [
    "with open(filepath, 'r') as csvfile:\n",
    "    csvreader = csv.reader(csvfile, delimiter= \",\")\n",
    "    csv_header = next(csvreader)\n",
    "    for row in csvreader:\n",
    "        total_months = total_months + 1\n",
    "        total = total + int(row[1])\n",
    "        new_value = int(row[1])\n",
    "        if total_months > 1:\n",
    "            change = new_value - old_value\n",
    "        old_value = int(row[1])\n",
    "        change_total = change_total + change\n",
    "        row.append(change)\n",
    "        records.append(row)\n",
    "        print(row)"
   ]
  },
  {
   "cell_type": "code",
   "execution_count": 145,
   "id": "9ef7e0f3-ec2c-4acc-b58d-5c48bfc3107c",
   "metadata": {
    "tags": []
   },
   "outputs": [
    {
     "data": {
      "text/plain": [
       "86"
      ]
     },
     "execution_count": 145,
     "metadata": {},
     "output_type": "execute_result"
    }
   ],
   "source": [
    "total_months"
   ]
  },
  {
   "cell_type": "code",
   "execution_count": 146,
   "id": "d26d9fa8-c2c9-4109-96d0-0d08122050ad",
   "metadata": {
    "tags": []
   },
   "outputs": [
    {
     "data": {
      "text/plain": [
       "38382578"
      ]
     },
     "execution_count": 146,
     "metadata": {},
     "output_type": "execute_result"
    }
   ],
   "source": [
    "total"
   ]
  },
  {
   "cell_type": "code",
   "execution_count": 147,
   "id": "49af9d09-deb8-4488-8a3c-619bda81d0ad",
   "metadata": {
    "tags": []
   },
   "outputs": [
    {
     "data": {
      "text/plain": [
       "-196785"
      ]
     },
     "execution_count": 147,
     "metadata": {},
     "output_type": "execute_result"
    }
   ],
   "source": [
    "change_total"
   ]
  },
  {
   "cell_type": "code",
   "execution_count": 153,
   "id": "48581036-c4b9-4e49-9ba8-0cd6519c778f",
   "metadata": {
    "tags": []
   },
   "outputs": [],
   "source": [
    "average_change = round(change_total / (total_months - 1), 2)"
   ]
  },
  {
   "cell_type": "code",
   "execution_count": 154,
   "id": "609dd7aa-1fff-4d37-90fa-6faee7b3a4c4",
   "metadata": {
    "tags": []
   },
   "outputs": [
    {
     "data": {
      "text/plain": [
       "-2315.12"
      ]
     },
     "execution_count": 154,
     "metadata": {},
     "output_type": "execute_result"
    }
   ],
   "source": [
    "average_change"
   ]
  },
  {
   "cell_type": "code",
   "execution_count": 101,
   "id": "babb28d9-ef62-4a34-b084-3e8d95135916",
   "metadata": {
    "tags": []
   },
   "outputs": [],
   "source": [
    "output_path = Path(\"/Users/danielfroom/Desktop/python-homework/PyBank/Financial_Analysis.txt\")"
   ]
  },
  {
   "cell_type": "code",
   "execution_count": 155,
   "id": "b2e3ba35-fcda-4292-9761-96e4b83e40d4",
   "metadata": {
    "tags": []
   },
   "outputs": [
    {
     "name": "stdout",
     "output_type": "stream",
     "text": [
      "Financial Analysis \n",
      "\n",
      "------------------------------------- \n",
      "\n",
      "Total Months: 86 \n",
      "\n",
      "Total: $38382578 \n",
      "\n",
      "Average Change: $-2315.12 \n",
      "\n"
     ]
    }
   ],
   "source": [
    "print(f\"Financial Analysis \\n\")\n",
    "print(f\"------------------------------------- \\n\")\n",
    "print(f\"Total Months: {total_months} \\n\")\n",
    "print(f\"Total: ${total} \\n\")\n",
    "print(f\"Average Change: ${average_change} \\n\")"
   ]
  },
  {
   "cell_type": "code",
   "execution_count": null,
   "id": "098ae1b6-3d42-44ea-b5ed-14f3bfea2abe",
   "metadata": {},
   "outputs": [],
   "source": [
    "print(f\"Financial Analysis \\n\")\n",
    "print(f\"------------------------------------- \\n\")\n",
    "print(f\"Total Months: {total_months} \\n\")\n",
    "print(f\"Total: ${total} \\n\")\n",
    "print(f\"Average Change: ${average_change} \\n\")\n",
    "print(f\"Greatest Increase in Profits: {} {} \\n\")\n",
    "print(f\"Greatest Decrease in Profits: {} {} \\n\")\n",
    "\n",
    "with open(output_path, 'w') as file:\n",
    "    file.write(f\"Financial Analysis \\n\")\n",
    "    file.write(f\"------------------------------------- \\n\")\n",
    "    file.write(f\"Total Months: {total_months} \\n\")\n",
    "    file.write(f\"Total: ${total} \\n\")\n",
    "    file.write(f\"Average Change: $ {} \\n\")\n",
    "    file.write(f\"Greatest Increase in Profits: {} {} \\n\")\n",
    "    file.write(f\"Greatest Decrease in Profits: {} {} \\n\")\n"
   ]
  }
 ],
 "metadata": {
  "kernelspec": {
   "display_name": "Python 3 (ipykernel)",
   "language": "python",
   "name": "python3"
  },
  "language_info": {
   "codemirror_mode": {
    "name": "ipython",
    "version": 3
   },
   "file_extension": ".py",
   "mimetype": "text/x-python",
   "name": "python",
   "nbconvert_exporter": "python",
   "pygments_lexer": "ipython3",
   "version": "3.10.12"
  }
 },
 "nbformat": 4,
 "nbformat_minor": 5
}
