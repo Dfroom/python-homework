{
 "cells": [
  {
   "cell_type": "code",
   "execution_count": 1,
   "id": "eb78d422-389b-4719-b1df-595f06c43c40",
   "metadata": {},
   "outputs": [],
   "source": [
    "from pathlib import Path"
   ]
  },
  {
   "cell_type": "code",
   "execution_count": 20,
   "id": "d43bc96c-4877-4e5c-93ed-8bd4adda845c",
   "metadata": {
    "tags": []
   },
   "outputs": [],
   "source": [
    "filepath = Path(\"/Users/danielfroom/Desktop/python-homework/PyBank/budget_data.csv\")"
   ]
  },
  {
   "cell_type": "code",
   "execution_count": 21,
   "id": "b47faf98-03dd-4ec4-b669-69e7385572a0",
   "metadata": {
    "tags": []
   },
   "outputs": [],
   "source": [
    "records = []"
   ]
  },
  {
   "cell_type": "code",
   "execution_count": 22,
   "id": "94d7bd86-7476-4f82-851b-de96bd37beb5",
   "metadata": {
    "tags": []
   },
   "outputs": [],
   "source": [
    "line_num = 0"
   ]
  },
  {
   "cell_type": "code",
   "execution_count": 79,
   "id": "cf4ca055-3a07-4f43-9d72-37515db28940",
   "metadata": {
    "tags": []
   },
   "outputs": [],
   "source": [
    "total_months = 0\n",
    "total = 0\n",
    "average_change = 0\n",
    "greatest_increase = 0\n",
    "greatest_decrease = 0\n",
    "change = 0"
   ]
  },
  {
   "cell_type": "code",
   "execution_count": 24,
   "id": "7d6125aa-868d-4831-89d9-69fcf03100fd",
   "metadata": {
    "tags": []
   },
   "outputs": [],
   "source": [
    "import csv"
   ]
  },
  {
   "cell_type": "code",
   "execution_count": 69,
   "id": "da2edab3-d28c-44ee-9aa7-677b82632c3d",
   "metadata": {
    "tags": []
   },
   "outputs": [
    {
     "name": "stdout",
     "output_type": "stream",
     "text": [
      "['Date', 'Profit_Losses']\n"
     ]
    }
   ],
   "source": [
    "with open(filepath, 'r') as csvfile:\n",
    "    csvreader = csv.reader(csvfile, delimiter= \",\")\n",
    "    csv_header = next(csvreader)\n",
    "    print(csv_header)"
   ]
  },
  {
   "cell_type": "code",
   "execution_count": 70,
   "id": "869e6469-23e6-492d-92b3-c76798ea8bd5",
   "metadata": {
    "tags": []
   },
   "outputs": [],
   "source": [
    "csv_header.append(\"Calc\")"
   ]
  },
  {
   "cell_type": "code",
   "execution_count": 71,
   "id": "4de8cdba-1d6f-4a39-bb4f-54c916527d85",
   "metadata": {
    "tags": []
   },
   "outputs": [
    {
     "name": "stdout",
     "output_type": "stream",
     "text": [
      "['Date', 'Profit_Losses', 'Calc']\n"
     ]
    }
   ],
   "source": [
    "print(csv_header)"
   ]
  },
  {
   "cell_type": "code",
   "execution_count": 72,
   "id": "b223ec47-a6c1-4989-9ffd-67f30d53c9a1",
   "metadata": {
    "tags": []
   },
   "outputs": [],
   "source": [
    "records.append(csv_header)"
   ]
  },
  {
   "cell_type": "code",
   "execution_count": 73,
   "id": "b21fae3c-d1b8-48e0-a748-639885d9e4f7",
   "metadata": {
    "tags": []
   },
   "outputs": [],
   "source": [
    "csv_header.append(\"Change\")"
   ]
  },
  {
   "cell_type": "code",
   "execution_count": null,
   "id": "fc5cbfc2-5433-4033-8832-059cc7a58fad",
   "metadata": {},
   "outputs": [],
   "source": []
  },
  {
   "cell_type": "code",
   "execution_count": 74,
   "id": "39bfb083-ac0b-4100-bf2c-d0b8e6ab5d96",
   "metadata": {
    "tags": []
   },
   "outputs": [
    {
     "name": "stdout",
     "output_type": "stream",
     "text": [
      "['Date', 'Profit_Losses', 'Calc', 'Change']\n"
     ]
    }
   ],
   "source": [
    "print(csv_header)"
   ]
  },
  {
   "cell_type": "code",
   "execution_count": 75,
   "id": "34c52495-c1b4-4999-b72d-831673e2af9f",
   "metadata": {
    "tags": []
   },
   "outputs": [],
   "source": [
    "records.append(csv_header)"
   ]
  },
  {
   "cell_type": "code",
   "execution_count": 67,
   "id": "bb6b5dae-e84e-4c9a-bf75-d519f04383a7",
   "metadata": {
    "tags": []
   },
   "outputs": [],
   "source": []
  },
  {
   "cell_type": "code",
   "execution_count": null,
   "id": "41b2a83b-01e8-42f6-b39a-a0f3847887b5",
   "metadata": {},
   "outputs": [],
   "source": []
  },
  {
   "cell_type": "code",
   "execution_count": 80,
   "id": "e999d290-ad4b-4270-8027-58d27e42ecb6",
   "metadata": {
    "tags": []
   },
   "outputs": [
    {
     "name": "stdout",
     "output_type": "stream",
     "text": [
      "['Jan-2010', '867884', 867884]\n",
      "['Feb-2010', '984655', 984655]\n",
      "['Mar-2010', '322013', 322013]\n",
      "['Apr-2010', '-69417', -69417]\n",
      "['May-2010', '310503', 310503]\n",
      "['Jun-2010', '522857', 522857]\n",
      "['Jul-2010', '1033096', 1033096]\n",
      "['Aug-2010', '604885', 604885]\n",
      "['Sep-2010', '-216386', -216386]\n",
      "['Oct-2010', '477532', 477532]\n",
      "['Nov-2010', '893810', 893810]\n",
      "['Dec-2010', '-80353', -80353]\n",
      "['Jan-2011', '779806', 779806]\n",
      "['Feb-2011', '-335203', -335203]\n",
      "['Mar-2011', '697845', 697845]\n",
      "['Apr-2011', '793163', 793163]\n",
      "['May-2011', '485070', 485070]\n",
      "['Jun-2011', '584122', 584122]\n",
      "['Jul-2011', '62729', 62729]\n",
      "['Aug-2011', '668179', 668179]\n",
      "['Sep-2011', '899906', 899906]\n",
      "['Oct-2011', '834719', 834719]\n",
      "['Nov-2011', '132003', 132003]\n",
      "['Dec-2011', '309978', 309978]\n",
      "['Jan-2012', '-755566', -755566]\n",
      "['Feb-2012', '1170593', 1170593]\n",
      "['Mar-2012', '252788', 252788]\n",
      "['Apr-2012', '1151518', 1151518]\n",
      "['May-2012', '817256', 817256]\n",
      "['Jun-2012', '570757', 570757]\n",
      "['Jul-2012', '506702', 506702]\n",
      "['Aug-2012', '-1022534', -1022534]\n",
      "['Sep-2012', '475062', 475062]\n",
      "['Oct-2012', '779976', 779976]\n",
      "['Nov-2012', '144175', 144175]\n",
      "['Dec-2012', '542494', 542494]\n",
      "['Jan-2013', '359333', 359333]\n",
      "['Feb-2013', '321469', 321469]\n",
      "['Mar-2013', '67780', 67780]\n",
      "['Apr-2013', '471435', 471435]\n",
      "['May-2013', '565603', 565603]\n",
      "['Jun-2013', '872480', 872480]\n",
      "['Jul-2013', '789480', 789480]\n",
      "['Aug-2013', '999942', 999942]\n",
      "['Sep-2013', '-1196225', -1196225]\n",
      "['Oct-2013', '268997', 268997]\n",
      "['Nov-2013', '-687986', -687986]\n",
      "['Dec-2013', '1150461', 1150461]\n",
      "['Jan-2014', '682458', 682458]\n",
      "['Feb-2014', '617856', 617856]\n",
      "['Mar-2014', '824098', 824098]\n",
      "['Apr-2014', '581943', 581943]\n",
      "['May-2014', '132864', 132864]\n",
      "['Jun-2014', '448062', 448062]\n",
      "['Jul-2014', '689161', 689161]\n",
      "['Aug-2014', '800701', 800701]\n",
      "['Sep-2014', '1166643', 1166643]\n",
      "['Oct-2014', '947333', 947333]\n",
      "['Nov-2014', '578668', 578668]\n",
      "['Dec-2014', '988505', 988505]\n",
      "['Jan-2015', '1139715', 1139715]\n",
      "['Feb-2015', '1029471', 1029471]\n",
      "['Mar-2015', '687533', 687533]\n",
      "['Apr-2015', '-524626', -524626]\n",
      "['May-2015', '158620', 158620]\n",
      "['Jun-2015', '87795', 87795]\n",
      "['Jul-2015', '423389', 423389]\n",
      "['Aug-2015', '840723', 840723]\n",
      "['Sep-2015', '568529', 568529]\n",
      "['Oct-2015', '332067', 332067]\n",
      "['Nov-2015', '989499', 989499]\n",
      "['Dec-2015', '778237', 778237]\n",
      "['Jan-2016', '650000', 650000]\n",
      "['Feb-2016', '-1100387', -1100387]\n",
      "['Mar-2016', '-174946', -174946]\n",
      "['Apr-2016', '757143', 757143]\n",
      "['May-2016', '445709', 445709]\n",
      "['Jun-2016', '712961', 712961]\n",
      "['Jul-2016', '-1163797', -1163797]\n",
      "['Aug-2016', '569899', 569899]\n",
      "['Sep-2016', '768450', 768450]\n",
      "['Oct-2016', '102685', 102685]\n",
      "['Nov-2016', '795914', 795914]\n",
      "['Dec-2016', '60988', 60988]\n",
      "['Jan-2017', '138230', 138230]\n",
      "['Feb-2017', '671099', 671099]\n"
     ]
    }
   ],
   "source": [
    "with open(filepath, 'r') as csvfile:\n",
    "    csvreader = csv.reader(csvfile, delimiter= \",\")\n",
    "    csv_header = next(csvreader)\n",
    "    for row in csvreader:\n",
    "        total_months = total_months + 1\n",
    "        total = total + int(row[1])\n",
    "        calc = int(row[1])\n",
    "        row.append(calc)\n",
    "        records.append(row)\n",
    "        print(row)"
   ]
  },
  {
   "cell_type": "code",
   "execution_count": 63,
   "id": "9ef7e0f3-ec2c-4acc-b58d-5c48bfc3107c",
   "metadata": {
    "tags": []
   },
   "outputs": [
    {
     "data": {
      "text/plain": [
       "86"
      ]
     },
     "execution_count": 63,
     "metadata": {},
     "output_type": "execute_result"
    }
   ],
   "source": [
    "total_months"
   ]
  },
  {
   "cell_type": "code",
   "execution_count": 65,
   "id": "d26d9fa8-c2c9-4109-96d0-0d08122050ad",
   "metadata": {
    "tags": []
   },
   "outputs": [
    {
     "data": {
      "text/plain": [
       "38382578"
      ]
     },
     "execution_count": 65,
     "metadata": {},
     "output_type": "execute_result"
    }
   ],
   "source": [
    "total"
   ]
  },
  {
   "cell_type": "code",
   "execution_count": 83,
   "id": "b2e3ba35-fcda-4292-9761-96e4b83e40d4",
   "metadata": {
    "tags": []
   },
   "outputs": [
    {
     "name": "stdout",
     "output_type": "stream",
     "text": [
      "Financial Analysis \n",
      "\n",
      "------------------------------------- \n",
      "\n",
      "Total Months: 86 \n",
      "\n",
      "Total: $38382578 \n",
      "\n"
     ]
    }
   ],
   "source": [
    "print(f\"Financial Analysis \\n\")\n",
    "print(f\"------------------------------------- \\n\")\n",
    "print(f\"Total Months: {total_months} \\n\")\n",
    "print(f\"Total: ${total} \\n\")\n"
   ]
  }
 ],
 "metadata": {
  "kernelspec": {
   "display_name": "Python 3 (ipykernel)",
   "language": "python",
   "name": "python3"
  },
  "language_info": {
   "codemirror_mode": {
    "name": "ipython",
    "version": 3
   },
   "file_extension": ".py",
   "mimetype": "text/x-python",
   "name": "python",
   "nbconvert_exporter": "python",
   "pygments_lexer": "ipython3",
   "version": "3.10.12"
  }
 },
 "nbformat": 4,
 "nbformat_minor": 5
}
