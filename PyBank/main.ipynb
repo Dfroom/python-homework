{
 "cells": [
  {
   "cell_type": "code",
   "execution_count": 198,
   "id": "eb78d422-389b-4719-b1df-595f06c43c40",
   "metadata": {},
   "outputs": [],
   "source": [
    "# Import Path from pathlib     \n",
    "from pathlib import Path"
   ]
  },
  {
   "cell_type": "code",
   "execution_count": 199,
   "id": "d43bc96c-4877-4e5c-93ed-8bd4adda845c",
   "metadata": {
    "tags": []
   },
   "outputs": [],
   "source": [
    "# Set the file path\n",
    "filepath = Path(\"/Users/danielfroom/Desktop/python-homework/PyBank/budget_data.csv\")"
   ]
  },
  {
   "cell_type": "code",
   "execution_count": 200,
   "id": "b47faf98-03dd-4ec4-b669-69e7385572a0",
   "metadata": {
    "tags": []
   },
   "outputs": [],
   "source": [
    "# Set that records is a list\n",
    "records = []"
   ]
  },
  {
   "cell_type": "code",
   "execution_count": 201,
   "id": "94d7bd86-7476-4f82-851b-de96bd37beb5",
   "metadata": {
    "tags": []
   },
   "outputs": [],
   "source": [
    "# Set line_num to 0. line_num is the counter for the list.\n",
    "line_num = 0"
   ]
  },
  {
   "cell_type": "code",
   "execution_count": 229,
   "id": "cf4ca055-3a07-4f43-9d72-37515db28940",
   "metadata": {
    "tags": []
   },
   "outputs": [],
   "source": [
    "# Setting variables\n",
    "# Set variables to 0.\n",
    "total_months = 0\n",
    "total = 0\n",
    "average_change = 0\n",
    "change = 0\n",
    "old_value = 0\n",
    "new_value = 0\n",
    "change_total = 0\n",
    "# Create lists with two columns for greatest increase and greatest decrease. Input received from TA during office hours on Aug 31st.\n",
    "greatest_increase = [\"\", 0]\n",
    "greatest_decrease = [\"\", 0]"
   ]
  },
  {
   "cell_type": "code",
   "execution_count": 203,
   "id": "7d6125aa-868d-4831-89d9-69fcf03100fd",
   "metadata": {
    "tags": []
   },
   "outputs": [],
   "source": [
    "import csv"
   ]
  },
  {
   "cell_type": "code",
   "execution_count": 204,
   "id": "da2edab3-d28c-44ee-9aa7-677b82632c3d",
   "metadata": {
    "tags": []
   },
   "outputs": [
    {
     "name": "stdout",
     "output_type": "stream",
     "text": [
      "['Date', 'Profit_Losses']\n"
     ]
    }
   ],
   "source": [
    "# Open the file in the file path in \"read mode\". \n",
    "# The file is deliminated with commas and has a header.\n",
    "# Print the header (to verify code and file).\n",
    "with open(filepath, 'r') as csvfile:\n",
    "    csvreader = csv.reader(csvfile, delimiter= \",\")\n",
    "    csv_header = next(csvreader)\n",
    "    print(csv_header)"
   ]
  },
  {
   "cell_type": "code",
   "execution_count": 205,
   "id": "b21fae3c-d1b8-48e0-a748-639885d9e4f7",
   "metadata": {
    "tags": []
   },
   "outputs": [],
   "source": [
    "# Add a column titled \"Change\"\n",
    "csv_header.append(\"Change\")"
   ]
  },
  {
   "cell_type": "code",
   "execution_count": 206,
   "id": "39bfb083-ac0b-4100-bf2c-d0b8e6ab5d96",
   "metadata": {
    "tags": []
   },
   "outputs": [
    {
     "name": "stdout",
     "output_type": "stream",
     "text": [
      "['Date', 'Profit_Losses', 'Change']\n"
     ]
    }
   ],
   "source": [
    "# Print the header to verify the added column\n",
    "print(csv_header)"
   ]
  },
  {
   "cell_type": "code",
   "execution_count": 207,
   "id": "34c52495-c1b4-4999-b72d-831673e2af9f",
   "metadata": {
    "tags": []
   },
   "outputs": [],
   "source": [
    "# Append the records to account for added column\n",
    "records.append(csv_header)"
   ]
  },
  {
   "cell_type": "code",
   "execution_count": 223,
   "id": "e999d290-ad4b-4270-8027-58d27e42ecb6",
   "metadata": {
    "tags": []
   },
   "outputs": [
    {
     "name": "stdout",
     "output_type": "stream",
     "text": [
      "['Jan-2010', '867884', 0]\n",
      "['Feb-2010', '984655', 116771]\n",
      "['Mar-2010', '322013', -662642]\n",
      "['Apr-2010', '-69417', -391430]\n",
      "['May-2010', '310503', 379920]\n",
      "['Jun-2010', '522857', 212354]\n",
      "['Jul-2010', '1033096', 510239]\n",
      "['Aug-2010', '604885', -428211]\n",
      "['Sep-2010', '-216386', -821271]\n",
      "['Oct-2010', '477532', 693918]\n",
      "['Nov-2010', '893810', 416278]\n",
      "['Dec-2010', '-80353', -974163]\n",
      "['Jan-2011', '779806', 860159]\n",
      "['Feb-2011', '-335203', -1115009]\n",
      "['Mar-2011', '697845', 1033048]\n",
      "['Apr-2011', '793163', 95318]\n",
      "['May-2011', '485070', -308093]\n",
      "['Jun-2011', '584122', 99052]\n",
      "['Jul-2011', '62729', -521393]\n",
      "['Aug-2011', '668179', 605450]\n",
      "['Sep-2011', '899906', 231727]\n",
      "['Oct-2011', '834719', -65187]\n",
      "['Nov-2011', '132003', -702716]\n",
      "['Dec-2011', '309978', 177975]\n",
      "['Jan-2012', '-755566', -1065544]\n",
      "['Feb-2012', '1170593', 1926159]\n",
      "['Mar-2012', '252788', -917805]\n",
      "['Apr-2012', '1151518', 898730]\n",
      "['May-2012', '817256', -334262]\n",
      "['Jun-2012', '570757', -246499]\n",
      "['Jul-2012', '506702', -64055]\n",
      "['Aug-2012', '-1022534', -1529236]\n",
      "['Sep-2012', '475062', 1497596]\n",
      "['Oct-2012', '779976', 304914]\n",
      "['Nov-2012', '144175', -635801]\n",
      "['Dec-2012', '542494', 398319]\n",
      "['Jan-2013', '359333', -183161]\n",
      "['Feb-2013', '321469', -37864]\n",
      "['Mar-2013', '67780', -253689]\n",
      "['Apr-2013', '471435', 403655]\n",
      "['May-2013', '565603', 94168]\n",
      "['Jun-2013', '872480', 306877]\n",
      "['Jul-2013', '789480', -83000]\n",
      "['Aug-2013', '999942', 210462]\n",
      "['Sep-2013', '-1196225', -2196167]\n",
      "['Oct-2013', '268997', 1465222]\n",
      "['Nov-2013', '-687986', -956983]\n",
      "['Dec-2013', '1150461', 1838447]\n",
      "['Jan-2014', '682458', -468003]\n",
      "['Feb-2014', '617856', -64602]\n",
      "['Mar-2014', '824098', 206242]\n",
      "['Apr-2014', '581943', -242155]\n",
      "['May-2014', '132864', -449079]\n",
      "['Jun-2014', '448062', 315198]\n",
      "['Jul-2014', '689161', 241099]\n",
      "['Aug-2014', '800701', 111540]\n",
      "['Sep-2014', '1166643', 365942]\n",
      "['Oct-2014', '947333', -219310]\n",
      "['Nov-2014', '578668', -368665]\n",
      "['Dec-2014', '988505', 409837]\n",
      "['Jan-2015', '1139715', 151210]\n",
      "['Feb-2015', '1029471', -110244]\n",
      "['Mar-2015', '687533', -341938]\n",
      "['Apr-2015', '-524626', -1212159]\n",
      "['May-2015', '158620', 683246]\n",
      "['Jun-2015', '87795', -70825]\n",
      "['Jul-2015', '423389', 335594]\n",
      "['Aug-2015', '840723', 417334]\n",
      "['Sep-2015', '568529', -272194]\n",
      "['Oct-2015', '332067', -236462]\n",
      "['Nov-2015', '989499', 657432]\n",
      "['Dec-2015', '778237', -211262]\n",
      "['Jan-2016', '650000', -128237]\n",
      "['Feb-2016', '-1100387', -1750387]\n",
      "['Mar-2016', '-174946', 925441]\n",
      "['Apr-2016', '757143', 932089]\n",
      "['May-2016', '445709', -311434]\n",
      "['Jun-2016', '712961', 267252]\n",
      "['Jul-2016', '-1163797', -1876758]\n",
      "['Aug-2016', '569899', 1733696]\n",
      "['Sep-2016', '768450', 198551]\n",
      "['Oct-2016', '102685', -665765]\n",
      "['Nov-2016', '795914', 693229]\n",
      "['Dec-2016', '60988', -734926]\n",
      "['Jan-2017', '138230', 77242]\n",
      "['Feb-2017', '671099', 532869]\n"
     ]
    }
   ],
   "source": [
    "# Open the file in the file path in \"read mode\". \n",
    "# The file is deliminated with commas and has a header.\n",
    "with open(filepath, 'r') as csvfile:\n",
    "    csvreader = csv.reader(csvfile, delimiter= \",\")\n",
    "    csv_header = next(csvreader)\n",
    "    # Establish a loop for the commands\n",
    "    for row in csvreader:\n",
    "        # Counts the the total months in the file\n",
    "        total_months = total_months + 1\n",
    "        # Calculates the total Profit/Loss\n",
    "        total = total + int(row[1])\n",
    "        #Establishes relevant values and calculates the change in Profit/loss between months.\n",
    "        new_value = int(row[1])\n",
    "        if total_months > 1:\n",
    "            change = new_value - old_value\n",
    "        old_value = int(row[1])\n",
    "        # Calculates the sum of all the changes in Profit/Loss\n",
    "        change_total = change_total + change\n",
    "        # Appends the data for the new change column to the row and records.\n",
    "        row.append(change)\n",
    "        records.append(row)\n",
    "        # If statement loops to determine the greatest increase in profits. Structure taken from TA demo during office hours on August 31.\n",
    "        if change > greatest_increase[1]:\n",
    "            greatest_increase[0] = row[0]\n",
    "            greatest_increase[1] = change\n",
    "        # If statement loops to determine the greatest decrease in profits. Structure taken from TA demo during office hours on August 31.\n",
    "        if greatest_decrease == 0:\n",
    "            greatest_decrease = change\n",
    "        if change < greatest_decrease[1]:\n",
    "            greatest_decrease[0] = row[0]\n",
    "            greatest_decrease[1] = change\n",
    "        # Print the csv file. (Checks the change column was properly added.)\n",
    "        print(row)"
   ]
  },
  {
   "cell_type": "code",
   "execution_count": 209,
   "id": "9ef7e0f3-ec2c-4acc-b58d-5c48bfc3107c",
   "metadata": {
    "tags": []
   },
   "outputs": [
    {
     "data": {
      "text/plain": [
       "86"
      ]
     },
     "execution_count": 209,
     "metadata": {},
     "output_type": "execute_result"
    }
   ],
   "source": [
    "# Print total_months to verify above code functions as expected.\n",
    "total_months"
   ]
  },
  {
   "cell_type": "code",
   "execution_count": 210,
   "id": "d26d9fa8-c2c9-4109-96d0-0d08122050ad",
   "metadata": {
    "tags": []
   },
   "outputs": [
    {
     "data": {
      "text/plain": [
       "38382578"
      ]
     },
     "execution_count": 210,
     "metadata": {},
     "output_type": "execute_result"
    }
   ],
   "source": [
    "# Print total to verify above code functions as expected.\n",
    "total"
   ]
  },
  {
   "cell_type": "code",
   "execution_count": 211,
   "id": "49af9d09-deb8-4488-8a3c-619bda81d0ad",
   "metadata": {
    "tags": []
   },
   "outputs": [
    {
     "data": {
      "text/plain": [
       "-196785"
      ]
     },
     "execution_count": 211,
     "metadata": {},
     "output_type": "execute_result"
    }
   ],
   "source": [
    "# Print change_total to verify above code functions as expected.\n",
    "change_total"
   ]
  },
  {
   "cell_type": "code",
   "execution_count": 212,
   "id": "48581036-c4b9-4e49-9ba8-0cd6519c778f",
   "metadata": {
    "tags": []
   },
   "outputs": [],
   "source": [
    "# Calculates the average change in Profit/Loss. The subtration of one from total months is to account for the first month not having a change (not being relevant).\n",
    "average_change = round(change_total / (total_months - 1), 2)"
   ]
  },
  {
   "cell_type": "code",
   "execution_count": 213,
   "id": "609dd7aa-1fff-4d37-90fa-6faee7b3a4c4",
   "metadata": {
    "tags": []
   },
   "outputs": [
    {
     "data": {
      "text/plain": [
       "-2315.12"
      ]
     },
     "execution_count": 213,
     "metadata": {},
     "output_type": "execute_result"
    }
   ],
   "source": [
    "# Print average_change to verify above code functions as expected.\n",
    "average_change"
   ]
  },
  {
   "cell_type": "code",
   "execution_count": 220,
   "id": "6fe8af31-4f44-409b-b22d-2dcccdc0bd57",
   "metadata": {
    "tags": []
   },
   "outputs": [
    {
     "data": {
      "text/plain": [
       "['Feb-2012', 1926159]"
      ]
     },
     "execution_count": 220,
     "metadata": {},
     "output_type": "execute_result"
    }
   ],
   "source": [
    "# Print greatest_increase to verify above code functions as expected.\n",
    "greatest_increase"
   ]
  },
  {
   "cell_type": "code",
   "execution_count": 224,
   "id": "785d59c1-a0d0-44c5-a24d-1e6644863b36",
   "metadata": {
    "tags": []
   },
   "outputs": [
    {
     "data": {
      "text/plain": [
       "['Sep-2013', -2196167]"
      ]
     },
     "execution_count": 224,
     "metadata": {},
     "output_type": "execute_result"
    }
   ],
   "source": [
    "# Print greatest_decrease to verify above code functions as expected.\n",
    "greatest_decrease"
   ]
  },
  {
   "cell_type": "code",
   "execution_count": 216,
   "id": "babb28d9-ef62-4a34-b084-3e8d95135916",
   "metadata": {
    "tags": []
   },
   "outputs": [],
   "source": [
    "# Set path for output file to be generated below.\n",
    "output_path = Path(\"/Users/danielfroom/Desktop/python-homework/PyBank/Financial_Analysis.txt\")"
   ]
  },
  {
   "cell_type": "code",
   "execution_count": 226,
   "id": "b2e3ba35-fcda-4292-9761-96e4b83e40d4",
   "metadata": {
    "tags": []
   },
   "outputs": [
    {
     "name": "stdout",
     "output_type": "stream",
     "text": [
      "Financial Analysis \n",
      "\n",
      "------------------------------------- \n",
      "\n",
      "Total Months: 86 \n",
      "\n",
      "Total: $38382578 \n",
      "\n",
      "Average Change: $0 \n",
      "\n",
      "Greatest Increase in Profits: $['Feb-2012', 1926159] \n",
      "\n",
      "Greatest Decrease in Profits: $['Sep-2013', -2196167]\n"
     ]
    }
   ],
   "source": [
    "# Print relevant metrics in appropriate format to verify formatting and results.\n",
    "print(f\"Financial Analysis \\n\")\n",
    "print(f\"------------------------------------- \\n\")\n",
    "print(f\"Total Months: {total_months} \\n\")\n",
    "print(f\"Total: ${total} \\n\")\n",
    "print(f\"Average Change: ${average_change} \\n\")\n",
    "print(f\"Greatest Increase in Profits: ${greatest_increase} \\n\")\n",
    "print(f\"Greatest Decrease in Profits: ${greatest_decrease}\")"
   ]
  },
  {
   "cell_type": "code",
   "execution_count": null,
   "id": "098ae1b6-3d42-44ea-b5ed-14f3bfea2abe",
   "metadata": {},
   "outputs": [],
   "source": [
    "# Final step- print results, create a output text file, and write results to the file.\n",
    "print(f\"Financial Analysis \\n\")\n",
    "print(f\"------------------------------------- \\n\")\n",
    "print(f\"Total Months: {total_months} \\n\")\n",
    "print(f\"Total: ${total} \\n\")\n",
    "print(f\"Average Change: ${average_change} \\n\")\n",
    "print(f\"Greatest Increase in Profits: ${greatest_increase} \\n\")\n",
    "print(f\"Greatest Decrease in Profits: ${greatest_decrease}\")\n",
    "\n",
    "with open(output_path, 'w') as file:\n",
    "    file.write(f\"Financial Analysis \\n\")\n",
    "    file.write(f\"------------------------------------- \\n\")\n",
    "    file.write(f\"Total Months: {total_months} \\n\")\n",
    "    file.write(f\"Total: ${total} \\n\")\n",
    "    file.write(f\"Average Change: $ {average_change} \\n\")\n",
    "    file.write(f\"Greatest Increase in Profits: ${greatest_increase} \\n\")\n",
    "    file.write(f\"Greatest Decrease in Profits: ${greatest_decrease}\")\n"
   ]
  }
 ],
 "metadata": {
  "kernelspec": {
   "display_name": "Python 3 (ipykernel)",
   "language": "python",
   "name": "python3"
  },
  "language_info": {
   "codemirror_mode": {
    "name": "ipython",
    "version": 3
   },
   "file_extension": ".py",
   "mimetype": "text/x-python",
   "name": "python",
   "nbconvert_exporter": "python",
   "pygments_lexer": "ipython3",
   "version": "3.10.12"
  }
 },
 "nbformat": 4,
 "nbformat_minor": 5
}
